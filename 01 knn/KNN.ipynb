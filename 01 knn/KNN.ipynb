{
 "cells": [
  {
   "cell_type": "markdown",
   "id": "7f321349-c86e-4873-aa23-e4722cff586b",
   "metadata": {},
   "source": [
    "# K-近邻算法"
   ]
  },
  {
   "cell_type": "markdown",
   "id": "e0c68891-bbb9-4514-bb9a-b667fdd3eb62",
   "metadata": {},
   "source": [
    "## 一 算法介绍\n",
    "### 1. 工作原理\n",
    "存在一个样本数据集合，也称作训练样本集，并且样本集中每个数据都存在标签，即我们知道样本集中每一数据与所属分类的对应关系。输入没有标签的新数据后，将新数据的每个特征与样本集中数据对应的特征进行比较，然后算法提取样本集中特征最相似数据（最近邻）的分类标签。一般来说，我们只选择样本数据集中前k个最相似的数据，这就是k-近邻算法中k的出处，通常k\n",
    "是不大于20的整数。最后，选择k个最相似数据中出现次数最多的分类，作为新数据的分类。\n",
    "### 2. 优缺点\n",
    "- 优点：精度高、对异常值不敏感、无数据输入假定。\n",
    "- 缺点：计算复杂度高、空间复杂度高。 适用数据范围：数值型和标称型。\n",
    "### 3. K近邻算法的一般流程\n",
    "- 收集数据：可以使用任何方法。\n",
    "- 准备数据：距离计算所需要的数值，最好是结构化的数据格式。\n",
    "- 分析数据：可以使用任何方法。\n",
    "- 训练算法：此步骤不适用于k近邻算法。\n",
    "- 测试算法：计算错误率。\n",
    "- 使用算法：首先需要输入样本数据和结构化的输出结果，然后运行k近邻算法判定输入数据分别属于哪个分类，最后应用对计算出的分类执行后续的处理。"
   ]
  },
  {
   "cell_type": "markdown",
   "id": "59b6459c-a295-4087-a9e1-b0f5ac243bd3",
   "metadata": {},
   "source": [
    "## 二 算法理解\n"
   ]
  },
  {
   "cell_type": "markdown",
   "id": "6dfa5ef4-bbfa-406d-84f4-ca32610dcd31",
   "metadata": {
    "tags": []
   },
   "source": [
    "### 1. 构建数据"
   ]
  },
  {
   "cell_type": "code",
   "execution_count": 4,
   "id": "6ff54a64-4e81-40e7-b718-22aa0e83fa4d",
   "metadata": {
    "tags": []
   },
   "outputs": [
    {
     "data": {
      "text/plain": [
       "array([[1. , 1.1],\n",
       "       [1. , 1. ],\n",
       "       [0. , 0. ],\n",
       "       [0. , 0.1]])"
      ]
     },
     "execution_count": 4,
     "metadata": {},
     "output_type": "execute_result"
    }
   ],
   "source": [
    "import numpy as np\n",
    "def createDataSet():\n",
    "    group  =  np.array([[1.0,1.1],[1.0,1.0],[0,0],[0,0.1]])\n",
    "    labels  =  ['A','A','B','B']\n",
    "    return  group,  labels\n",
    "group, labels = createDataSet()\n",
    "group"
   ]
  },
  {
   "cell_type": "code",
   "execution_count": 5,
   "id": "4aee91a1-af53-4cef-be84-dfcaa2b6d093",
   "metadata": {
    "tags": []
   },
   "outputs": [
    {
     "data": {
      "text/plain": [
       "['A', 'A', 'B', 'B']"
      ]
     },
     "execution_count": 5,
     "metadata": {},
     "output_type": "execute_result"
    }
   ],
   "source": [
    "labels"
   ]
  },
  {
   "cell_type": "markdown",
   "id": "17b17b57-253a-4615-8917-8c884596a6d6",
   "metadata": {},
   "source": [
    "### 2. 实施kNN分类算法\n",
    "对未知类别属性的数据集中的每个点依次执行以下操作：\n",
    "1. 计算已知类别数据集中的点与当前点之间的距离；\n",
    "2. 按照距离递增次序排序；\n",
    "3. 选取与当前点距离最小的k个点；\n",
    "4. 确定前k个点所在类别的出现频率；\n",
    "5. 返回前k个点出现频率最高的类别作为当前点的预测分类。"
   ]
  },
  {
   "cell_type": "code",
   "execution_count": null,
   "id": "76a7a7f4-eb1a-48d7-b61c-07c8204ea6e3",
   "metadata": {},
   "outputs": [],
   "source": [
    "def classify(inX, x, y, k):\n",
    "    l = x.shape[0]\n",
    "    "
   ]
  }
 ],
 "metadata": {
  "kernelspec": {
   "display_name": "Python 3 (ipykernel)",
   "language": "python",
   "name": "python3"
  },
  "language_info": {
   "codemirror_mode": {
    "name": "ipython",
    "version": 3
   },
   "file_extension": ".py",
   "mimetype": "text/x-python",
   "name": "python",
   "nbconvert_exporter": "python",
   "pygments_lexer": "ipython3",
   "version": "3.8.6"
  }
 },
 "nbformat": 4,
 "nbformat_minor": 5
}
